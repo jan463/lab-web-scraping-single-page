{
 "cells": [
  {
   "cell_type": "code",
   "execution_count": null,
   "id": "e254a2b2",
   "metadata": {},
   "outputs": [],
   "source": [
    "import pandas as pd\n",
    "from bs4 import BeautifulSoup\n",
    "import requests"
   ]
  },
  {
   "cell_type": "code",
   "execution_count": null,
   "id": "28d031f8",
   "metadata": {},
   "outputs": [],
   "source": [
    "url = \"https://www.billboard.com/charts/hot-100/\""
   ]
  },
  {
   "cell_type": "code",
   "execution_count": null,
   "id": "fec634e2",
   "metadata": {},
   "outputs": [],
   "source": [
    "response = requests.get(url)"
   ]
  },
  {
   "cell_type": "code",
   "execution_count": null,
   "id": "c59d408b",
   "metadata": {},
   "outputs": [],
   "source": [
    "soup = BeautifulSoup(response.text, \"html.parser\")"
   ]
  },
  {
   "cell_type": "code",
   "execution_count": null,
   "id": "26b74eb5",
   "metadata": {},
   "outputs": [],
   "source": [
    "artists = []\n",
    "for i in soup.find_all(\"span\", {\"class\": \"a-no-trucate\"}):\n",
    "    artists.append(i.get_text().replace(\"\\n\", \"\").replace(\"\\t\\t\", \"\"))\n",
    "len(artists)"
   ]
  },
  {
   "cell_type": "code",
   "execution_count": null,
   "id": "0bc3b16b",
   "metadata": {
    "scrolled": true
   },
   "outputs": [],
   "source": [
    "songs2 = []\n",
    "songs = []\n",
    "for i in soup.find_all(class_= \"a-no-trucate\"):\n",
    "    songs2.append(i.get_text())\n",
    "for k in songs2:\n",
    "    if k.replace(\"\\n\", \"\").replace(\"\\t\\t\", \"\") in artists:\n",
    "        songs2.remove(k)\n",
    "for k in songs2:\n",
    "    songs.append(k.replace(\"\\t\\t\\n\\t\\n\", \"\").replace(\"\\n\\n\\t\\n\\t\\n\\t\\t\\n\\t\\t\\t\\t\\t\", \"\"))\n",
    "len(songs)"
   ]
  },
  {
   "cell_type": "code",
   "execution_count": null,
   "id": "59677f9b",
   "metadata": {},
   "outputs": [],
   "source": [
    "my_dict = {songs[i]: artists[i] for i in range(len(songs))}"
   ]
  },
  {
   "cell_type": "code",
   "execution_count": null,
   "id": "a0f51400",
   "metadata": {},
   "outputs": [],
   "source": [
    "df = pd.DataFrame(my_dict.items(), columns=[\"song\", \"artist\"])"
   ]
  },
  {
   "cell_type": "code",
   "execution_count": null,
   "id": "dc3a0ce3",
   "metadata": {},
   "outputs": [],
   "source": [
    "df"
   ]
  }
 ],
 "metadata": {
  "kernelspec": {
   "display_name": "Python 3 (ipykernel)",
   "language": "python",
   "name": "python3"
  },
  "language_info": {
   "codemirror_mode": {
    "name": "ipython",
    "version": 3
   },
   "file_extension": ".py",
   "mimetype": "text/x-python",
   "name": "python",
   "nbconvert_exporter": "python",
   "pygments_lexer": "ipython3",
   "version": "3.11.7"
  }
 },
 "nbformat": 4,
 "nbformat_minor": 5
}
